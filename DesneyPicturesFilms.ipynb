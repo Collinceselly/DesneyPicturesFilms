{
 "cells": [
  {
   "cell_type": "markdown",
   "id": "914cc54a",
   "metadata": {},
   "source": [
    "Task#1: Get Info Box(Store in python dictionary)\n",
    "\n",
    "Import necessary libraries"
   ]
  },
  {
   "cell_type": "code",
   "execution_count": null,
   "id": "632e059f",
   "metadata": {},
   "outputs": [],
   "source": [
    "from bs4 import BeautifulSoup as bs\n",
    "import requests"
   ]
  },
  {
   "cell_type": "markdown",
   "id": "0a9d1e79",
   "metadata": {},
   "source": [
    "Load the webpage"
   ]
  },
  {
   "cell_type": "code",
   "execution_count": null,
   "id": "e6bd0f69",
   "metadata": {},
   "outputs": [],
   "source": [
    "r = requests.get(\"https://en.wikipedia.org/wiki/Toy_Story_3\")\n",
    "\n",
    "# convert to a beautiful soup object\n",
    "\n",
    "soup = bs(r.content)\n",
    "\n",
    "contents = soup.prettify()\n",
    "\n",
    "print(contents)"
   ]
  },
  {
   "cell_type": "code",
   "execution_count": null,
   "id": "291c2c53",
   "metadata": {},
   "outputs": [],
   "source": [
    "info_box = soup.find(class_ = \"infobox vevent\")\n",
    "\n",
    "info_row = info_box.find_all(\"tr\")\n",
    "\n",
    "for row in info_row:\n",
    "    print(row.prettify())\n"
   ]
  },
  {
   "cell_type": "code",
   "execution_count": null,
   "id": "b4056e44",
   "metadata": {},
   "outputs": [],
   "source": [
    "def get_content_value(row_data):\n",
    "    if row_data.find(\"li\"):\n",
    "        return[li.get_text(\" \", strip = True).replace(\"\\xa0\", \" \") for li in row_data.find_all(\"li\")]\n",
    "    else:\n",
    "        return row_data.get_text(\" \", strip = True).replace(\"\\xa0\", \" \")\n",
    "\n",
    "movie_info = {}\n",
    "for index, row in enumerate(info_row):\n",
    "    if index == 0:\n",
    "        movie_info['title'] = row.find('th').get_text(\" \", strip = True)\n",
    "    elif index == 1:\n",
    "        continue\n",
    "    else:\n",
    "        content_key = row.find(\"th\").get_text(\" \", strip = True)\n",
    "        content_value = get_content_value(row.find(\"td\"))\n",
    "        movie_info[content_key] = content_value\n",
    "\n",
    "    \n",
    "movie_info\n",
    "    "
   ]
  },
  {
   "cell_type": "markdown",
   "id": "fc27c97f",
   "metadata": {},
   "source": [
    "Task#2: Get Info Box for all Movies\n",
    "\n",
    "Scap the whole list of movies"
   ]
  },
  {
   "cell_type": "code",
   "execution_count": null,
   "id": "184fd27a",
   "metadata": {},
   "outputs": [],
   "source": [
    "r = requests.get(\"https://en.wikipedia.org/wiki/List_of_Walt_Disney_Pictures_films\")\n",
    "\n",
    "# convert to a beautiful soup object\n",
    "\n",
    "soup = bs(r.content)\n",
    "\n",
    "contents = soup.prettify()\n",
    "\n",
    "print(contents)"
   ]
  },
  {
   "cell_type": "code",
   "execution_count": null,
   "id": "34349be6",
   "metadata": {},
   "outputs": [],
   "source": [
    "# Method1\n",
    "\n",
    "movies = soup.find_all(class_ = \"wikitable sortable\")\n",
    "movies"
   ]
  },
  {
   "cell_type": "code",
   "execution_count": null,
   "id": "452e89c6",
   "metadata": {},
   "outputs": [],
   "source": [
    "# Method2\n",
    "\n",
    "movies = soup.select(\".wikitable.sortable i\")\n",
    "movies[1:10]"
   ]
  },
  {
   "cell_type": "code",
   "execution_count": null,
   "id": "c91945ab",
   "metadata": {},
   "outputs": [],
   "source": [
    "movies[0]"
   ]
  },
  {
   "cell_type": "code",
   "execution_count": null,
   "id": "54d1bf31",
   "metadata": {},
   "outputs": [],
   "source": [
    "movies[0].a['href']"
   ]
  },
  {
   "cell_type": "code",
   "execution_count": null,
   "id": "911546ca",
   "metadata": {},
   "outputs": [],
   "source": [
    "movies[0].a['title']"
   ]
  },
  {
   "cell_type": "code",
   "execution_count": null,
   "id": "15a6b402",
   "metadata": {},
   "outputs": [],
   "source": [
    "def get_content_value(row_data):\n",
    "    if row_data.find(\"li\"):\n",
    "        return[li.get_text(\" \", strip = True).replace(\"\\xa0\", \" \") for li in row_data.find_all(\"li\")]\n",
    "    elif row_data.find(\"br\"):\n",
    "        return [text for text in row_data.stripped_strings]\n",
    "    \n",
    "    else:\n",
    "        return row_data.get_text(\" \", strip = True).replace(\"\\xa0\", \" \")\n",
    "    \n",
    "def clean_tags(soup):\n",
    "    for tag in soup.find_all([\"sup\", \"span\"]):\n",
    "        tag.decompose()\n",
    "\n",
    "def get_info_box(url):\n",
    "    \n",
    "    r = requests.get(url)\n",
    "    \n",
    "    soup = bs(r.content)\n",
    "    contents = soup.prettify()\n",
    "    info_box = soup.find(class_ = \"infobox vevent\")\n",
    "    info_row = info_box.find_all(\"tr\")\n",
    "    \n",
    "    clean_tags(soup)\n",
    "    \n",
    "    \n",
    "    movie_info = {}\n",
    "    for index, row in enumerate(info_row):\n",
    "        if index == 0:\n",
    "            movie_info['title'] = row.find('th').get_text(\" \", strip = True)\n",
    "       \n",
    "        else:\n",
    "            header = row.find(\"th\")\n",
    "            if header:\n",
    "                content_key = row.find(\"th\").get_text(\" \", strip = True)\n",
    "                content_value = get_content_value(row.find(\"td\"))\n",
    "                movie_info[content_key] = content_value\n",
    "\n",
    "    \n",
    "    return movie_info"
   ]
  },
  {
   "cell_type": "code",
   "execution_count": null,
   "id": "5edfc58a",
   "metadata": {},
   "outputs": [],
   "source": [
    "get_info_box(\"https://en.wikipedia.org/wiki/Secrets_of_Life\")"
   ]
  },
  {
   "cell_type": "code",
   "execution_count": null,
   "id": "81a82b4c",
   "metadata": {},
   "outputs": [],
   "source": [
    "r = requests.get(\"https://en.wikipedia.org/wiki/List_of_Walt_Disney_Pictures_films\")\n",
    "soup = bs(r.content)\n",
    "movies = soup.select(\".wikitable.sortable i a\")\n",
    "movies[0]"
   ]
  },
  {
   "cell_type": "code",
   "execution_count": null,
   "id": "11890739",
   "metadata": {},
   "outputs": [],
   "source": [
    "r = requests.get(\"https://en.wikipedia.org/wiki/List_of_Walt_Disney_Pictures_films\")\n",
    "soup = bs(r.content)\n",
    "movies = soup.select(\".wikitable.sortable i a\")\n",
    "base_path = \"https://en.wikipedia.org/\"\n",
    "\n",
    "movie_info_list = []\n",
    "for index, movie in enumerate(movies):\n",
    "    if index % 10 == 0:\n",
    "        print(index)\n",
    "    try:\n",
    "        relative_path = movie['href']\n",
    "        full_path = base_path + relative_path\n",
    "        title = movie['title']\n",
    "        \n",
    "        movie_info_list.append(get_info_box(full_path))\n",
    "    except Exception as e:\n",
    "        print(movie.get_text())\n",
    "        print(e)\n"
   ]
  },
  {
   "cell_type": "code",
   "execution_count": null,
   "id": "213da661",
   "metadata": {},
   "outputs": [],
   "source": []
  },
  {
   "cell_type": "code",
   "execution_count": null,
   "id": "711e7504",
   "metadata": {},
   "outputs": [],
   "source": [
    "movie_info_list"
   ]
  },
  {
   "cell_type": "code",
   "execution_count": null,
   "id": "4677546a",
   "metadata": {
    "scrolled": true
   },
   "outputs": [],
   "source": [
    "len(movie_info_list)"
   ]
  },
  {
   "cell_type": "markdown",
   "id": "ac52adbe",
   "metadata": {},
   "source": [
    "Save/Reload movie data"
   ]
  },
  {
   "cell_type": "code",
   "execution_count": null,
   "id": "16471a2a",
   "metadata": {},
   "outputs": [],
   "source": [
    "# save data\n",
    "import json\n",
    "\n",
    "def save_data(title, data):\n",
    "    with open(title, 'w', encoding = 'utf-8') as f:\n",
    "        json.dump(data, f, ensure_ascii = False, indent  = 2)"
   ]
  },
  {
   "cell_type": "code",
   "execution_count": null,
   "id": "0b0d0a74",
   "metadata": {},
   "outputs": [],
   "source": [
    "# load data\n",
    "\n",
    "import json\n",
    "\n",
    "def load_data(title):\n",
    "    with open(title, encoding = 'utf-8') as f:\n",
    "        return json.load(f)"
   ]
  },
  {
   "cell_type": "code",
   "execution_count": null,
   "id": "ee406312",
   "metadata": {},
   "outputs": [],
   "source": [
    "save_data('desney_data_cleaned.json', movie_info_list)"
   ]
  },
  {
   "cell_type": "code",
   "execution_count": null,
   "id": "c4134961",
   "metadata": {},
   "outputs": [],
   "source": [
    "movie_info_list = load_data('desney_data_cleaned.json')"
   ]
  },
  {
   "cell_type": "code",
   "execution_count": null,
   "id": "77879f9c",
   "metadata": {},
   "outputs": [],
   "source": [
    "# load data\n",
    "\n",
    "import json\n",
    "\n",
    "def load_data(title):\n",
    "    with open(title, encoding = 'utf-8') as f:\n",
    "        return json.load(f)"
   ]
  },
  {
   "cell_type": "markdown",
   "id": "416c7272",
   "metadata": {},
   "source": [
    "Task#3: Cleaning of data"
   ]
  },
  {
   "cell_type": "code",
   "execution_count": null,
   "id": "2710ae58",
   "metadata": {},
   "outputs": [],
   "source": [
    "#### Subtasks\n",
    "\n",
    "#1: ~strikeCleaning up references\n",
    "#2: converting running time into integers\n",
    "#3: converting date into datetime object\n",
    "#4: split up the long strings\n",
    "#5: Converting budget and box office into numbers"
   ]
  },
  {
   "cell_type": "code",
   "execution_count": null,
   "id": "924a14ac",
   "metadata": {},
   "outputs": [],
   "source": [
    "#3: converting date into datetime object"
   ]
  },
  {
   "cell_type": "code",
   "execution_count": null,
   "id": "7a064d87",
   "metadata": {},
   "outputs": [],
   "source": [
    "[movie.get(\"Running time\", \"N/A\") for movie in movie_info_list]"
   ]
  },
  {
   "cell_type": "code",
   "execution_count": null,
   "id": "b9268279",
   "metadata": {},
   "outputs": [],
   "source": [
    "def minutes_to_integer(running_time):\n",
    "    if running_time == 'N/A':\n",
    "        return None\n",
    "    if isinstance(running_time, list):\n",
    "        return int(running_time[0].split(\" \")[0])\n",
    "    else:\n",
    "        return int(running_time.split(\" \")[0])\n",
    "\n",
    "for movie in movie_info_list:\n",
    "    movie[\"Running time (int)\"] = minutes_to_integer(movie.get('Running time', 'N/A'))"
   ]
  },
  {
   "cell_type": "code",
   "execution_count": null,
   "id": "a57e9ccc",
   "metadata": {},
   "outputs": [],
   "source": [
    "print([movie.get(\"Running time (int)\", \"N/A\") for movie in movie_info_list])"
   ]
  },
  {
   "cell_type": "code",
   "execution_count": null,
   "id": "f65af511",
   "metadata": {},
   "outputs": [],
   "source": [
    "#4: Converting budget and box office into numbers"
   ]
  },
  {
   "cell_type": "code",
   "execution_count": null,
   "id": "29f4ece7",
   "metadata": {},
   "outputs": [],
   "source": [
    "import re\n",
    "\n",
    "amounts = r\"thousand|million|billion\"\n",
    "number = r\"\\d+(,\\d{3})*\\.*\\d*\"\n",
    "standard = fr\"\\${number}(-|\\sto\\s)?({number})?\\s({amounts})\"\n",
    "\n",
    "def word_to_value(word):\n",
    "    value_dict = {\"thousand\": 1000, \"million\": 1000000, \"billion\": 1000000000}\n",
    "    return value_dict.get(word.lower(), 1)\n",
    "\n",
    "def parse_word_syntax(string):\n",
    "    stripped_string = string.replace(\",\", \"\")\n",
    "    value = float(re.search(number, stripped_string).group())\n",
    "    modifier = word_to_value(re.search(amounts, string, flags=re.I).group())\n",
    "    return value*modifier\n",
    "\n",
    "def parse_value_syntax(string):\n",
    "    stripped_string = string.replace(\",\", \"\")\n",
    "    return float(re.search(number, stripped_string).group())\n",
    "\n",
    "def money_conversion(money):\n",
    "    if type(money) == list:\n",
    "        money = money[0]\n",
    "\n",
    "    word_syntax = re.search(standard, money, flags=re.I)\n",
    "    value_syntax = re.search(fr\"\\${number}\", money)\n",
    "\n",
    "    if word_syntax:\n",
    "        return parse_word_syntax(word_syntax.group())\n",
    "    elif value_syntax:\n",
    "        return parse_value_syntax(value_syntax.group())\n",
    "    else:\n",
    "        return None\n",
    "\n",
    "print(money_conversion(\"$790 Million\"))    "
   ]
  },
  {
   "cell_type": "code",
   "execution_count": null,
   "id": "efd5172f",
   "metadata": {},
   "outputs": [],
   "source": [
    "for movie in movie_info_list:\n",
    "    movie[\"Budget (float)\"] = money_conversion(movie.get('Budget', 'N/A'))\n",
    "    movie[\"Box office (float)\"] = money_conversion(movie.get('Box office', 'N/A'))"
   ]
  },
  {
   "cell_type": "code",
   "execution_count": null,
   "id": "3eebcd35",
   "metadata": {},
   "outputs": [],
   "source": [
    "movie_info_list[-40]"
   ]
  },
  {
   "cell_type": "code",
   "execution_count": null,
   "id": "b2b62d21",
   "metadata": {},
   "outputs": [],
   "source": [
    "[movie.get(\"Budget\", \"N/A\") for movie in movie_info_list]"
   ]
  },
  {
   "cell_type": "markdown",
   "id": "0e7a31c2",
   "metadata": {},
   "source": [
    "#5: converting data to datatime objects"
   ]
  },
  {
   "cell_type": "code",
   "execution_count": null,
   "id": "b3eba40f",
   "metadata": {},
   "outputs": [],
   "source": [
    "movie_info_list[70]"
   ]
  },
  {
   "cell_type": "code",
   "execution_count": null,
   "id": "9bdc3487",
   "metadata": {},
   "outputs": [],
   "source": [
    "[movie.get(\"Release date\", \"N/A\") for movie in movie_info_list]"
   ]
  },
  {
   "cell_type": "code",
   "execution_count": null,
   "id": "9bdf7d75",
   "metadata": {},
   "outputs": [],
   "source": [
    "from datetime import datetime\n",
    "\n",
    "dates = [movie.get('Release date', 'N/A') for movie in movie_info_list]\n",
    "\n",
    "def clean_date(date):\n",
    "    return date.split('(')[0].strip()\n",
    "\n",
    "def date_conversion(date):\n",
    "    if isinstance(date, list):\n",
    "        date = date[0]\n",
    "    \n",
    "    if date == 'N/A':\n",
    "        return None\n",
    "        \n",
    "    date_str = clean_date(date)\n",
    "    \n",
    "    fmts  = [\"%B %d, %Y\", \"%d %B %Y\"]\n",
    "    \n",
    "    for fmt in fmts:\n",
    "        try:\n",
    "            return datetime.strptime(date_str, fmt)\n",
    "        except:\n",
    "            pass\n",
    "    return None"
   ]
  },
  {
   "cell_type": "code",
   "execution_count": null,
   "id": "6f048cde",
   "metadata": {},
   "outputs": [],
   "source": [
    "for movie in movie_info_list:\n",
    "    movie['Release date (datetime)'] = date_conversion(movie.get('Release date', 'N/A'))"
   ]
  },
  {
   "cell_type": "code",
   "execution_count": null,
   "id": "29bdd307",
   "metadata": {},
   "outputs": [],
   "source": [
    "movie_info_list[300]"
   ]
  },
  {
   "cell_type": "code",
   "execution_count": null,
   "id": "f8eb37fb",
   "metadata": {},
   "outputs": [],
   "source": [
    "import pickle\n",
    "\n",
    "def save_data_pickle(name, data):\n",
    "    with open(name, 'wb') as f:\n",
    "        pickle.dump(data, f)"
   ]
  },
  {
   "cell_type": "code",
   "execution_count": null,
   "id": "5e9e58ba",
   "metadata": {},
   "outputs": [],
   "source": [
    "import pickle\n",
    "\n",
    "def load_data_pickle(name):\n",
    "    with open(name, 'rb') as f:\n",
    "        return pickle.load(f)"
   ]
  },
  {
   "cell_type": "code",
   "execution_count": null,
   "id": "4fc936e5",
   "metadata": {},
   "outputs": [],
   "source": [
    "save_data_pickle(\"desney_data_cleaned_more.pickle\", movie_info_list)"
   ]
  },
  {
   "cell_type": "code",
   "execution_count": null,
   "id": "9cb05bf7",
   "metadata": {},
   "outputs": [],
   "source": [
    "a = load_data_pickle(\"desney_data_cleaned_more.pickle\")"
   ]
  },
  {
   "cell_type": "code",
   "execution_count": null,
   "id": "5bf4a571",
   "metadata": {},
   "outputs": [],
   "source": [
    "a[5]"
   ]
  },
  {
   "cell_type": "markdown",
   "id": "7be082b4",
   "metadata": {},
   "source": [
    "Task#4: Attach IMDB/Rotten tomatoes scores"
   ]
  },
  {
   "cell_type": "code",
   "execution_count": null,
   "id": "5ac4654e",
   "metadata": {},
   "outputs": [],
   "source": [
    "movie_info_list = load_data_pickle(\"desney_data_cleaned_more.pickle\")"
   ]
  },
  {
   "cell_type": "code",
   "execution_count": null,
   "id": "0837a9c5",
   "metadata": {},
   "outputs": [],
   "source": [
    "def get_movie_data(title):\n",
    "    baseurl=' http://www.omdbapi.com/?i=tt3896198&apikey=9d8220a' #Enter your API key here\n",
    "    params_diction = {}\n",
    "    params_diction['t']=title\n",
    "    params_diction['r']='json'\n",
    "    response = requests.get(baseurl, params=params_diction)\n",
    "    #print(response.url)\n",
    "    return response.json()\n",
    "# get_movie_data('the nutcracker and the four realms')\n",
    "\n",
    "def rotten_tomato_score(omdb_info):\n",
    "    ratings = omdb_info.get('Ratings', [])\n",
    "    for rating in ratings:\n",
    "        if rating['Source'] == 'Rotten Tomatoes':\n",
    "            return rating['Value']\n",
    "    return None\n",
    "\n",
    "get_movie_data('the nutcracker and the four realms')"
   ]
  },
  {
   "cell_type": "code",
   "execution_count": null,
   "id": "2aaa9576",
   "metadata": {},
   "outputs": [],
   "source": [
    "for movie in movie_info_list:\n",
    "    title = movie['title']\n",
    "    omdb_info = get_movie_data(title)\n",
    "    movie['imdb'] = omdb_info.get('imdbRating', None)\n",
    "    movie['genre'] = omdb_info.get('Genre', None)\n",
    "    movie['metascore'] = omdb_info.get('Metascore', None)\n",
    "    movie['rotten_tomatoes'] = rotten_tomato_score(omdb_info)\n",
    "    \n",
    "    "
   ]
  },
  {
   "cell_type": "code",
   "execution_count": null,
   "id": "3b20fcf3",
   "metadata": {},
   "outputs": [],
   "source": [
    "movie_info_list[-50]"
   ]
  },
  {
   "cell_type": "code",
   "execution_count": null,
   "id": "79b070bf",
   "metadata": {},
   "outputs": [],
   "source": [
    "save_data_pickle(\"desney_data_cleaned_final.pickle\", movie_info_list)"
   ]
  },
  {
   "cell_type": "markdown",
   "id": "da2297db",
   "metadata": {},
   "source": [
    "task# 5: Save data in json and csv file"
   ]
  },
  {
   "cell_type": "code",
   "execution_count": null,
   "id": "74028bbb",
   "metadata": {},
   "outputs": [],
   "source": [
    "movie_info_list[-50]"
   ]
  },
  {
   "cell_type": "code",
   "execution_count": null,
   "id": "16dc43dd",
   "metadata": {},
   "outputs": [],
   "source": [
    "movie_info_list_copy = [movie.copy() for movie in movie_info_list]"
   ]
  },
  {
   "cell_type": "code",
   "execution_count": null,
   "id": "dab007c8",
   "metadata": {},
   "outputs": [],
   "source": [
    "for movie in movie_info_list_copy:\n",
    "    current_date = movie['Release date (datetime)']\n",
    "    if current_date:\n",
    "        movie['Release date (datetime)'] = current_date.strftime(\"%B %d, %Y\")\n",
    "    else:\n",
    "        movie['Release date (datetime)'] = None"
   ]
  },
  {
   "cell_type": "code",
   "execution_count": null,
   "id": "e3b4cb83",
   "metadata": {},
   "outputs": [],
   "source": [
    "movie_info_list_copy[20]"
   ]
  },
  {
   "cell_type": "code",
   "execution_count": null,
   "id": "e4d7822a",
   "metadata": {},
   "outputs": [],
   "source": [
    "save_data(\"disney_data_final.json\", movie_info_list_copy)"
   ]
  },
  {
   "cell_type": "markdown",
   "id": "470735c1",
   "metadata": {},
   "source": [
    "####Converting Data to CSV"
   ]
  },
  {
   "cell_type": "code",
   "execution_count": null,
   "id": "bd76ae6f",
   "metadata": {},
   "outputs": [],
   "source": [
    "import pandas as pd\n",
    "\n",
    "pd.set_option('display.max_columns', None)\n",
    "\n",
    "df = pd.DataFrame(movie_info_list)"
   ]
  },
  {
   "cell_type": "code",
   "execution_count": null,
   "id": "dfe75de8",
   "metadata": {},
   "outputs": [],
   "source": [
    "df.head()"
   ]
  },
  {
   "cell_type": "code",
   "execution_count": null,
   "id": "dc8c13eb",
   "metadata": {},
   "outputs": [],
   "source": [
    "df.to_csv(\"disney_movie_data_final.csv\")"
   ]
  },
  {
   "cell_type": "code",
   "execution_count": null,
   "id": "ea8485b6",
   "metadata": {},
   "outputs": [],
   "source": [
    "df.info()"
   ]
  },
  {
   "cell_type": "code",
   "execution_count": null,
   "id": "4c7d2107",
   "metadata": {},
   "outputs": [],
   "source": [
    "running_times = df.sort_values(['Running time (int)'], ascending = False)\n",
    "running_times.head(30)"
   ]
  },
  {
   "cell_type": "code",
   "execution_count": null,
   "id": "cb8863da",
   "metadata": {},
   "outputs": [],
   "source": []
  }
 ],
 "metadata": {
  "kernelspec": {
   "display_name": "Python 3 (ipykernel)",
   "language": "python",
   "name": "python3"
  },
  "language_info": {
   "codemirror_mode": {
    "name": "ipython",
    "version": 3
   },
   "file_extension": ".py",
   "mimetype": "text/x-python",
   "name": "python",
   "nbconvert_exporter": "python",
   "pygments_lexer": "ipython3",
   "version": "3.10.9"
  }
 },
 "nbformat": 4,
 "nbformat_minor": 5
}
